{
    "nbformat_minor": 1, 
    "cells": [
        {
            "source": "<h2> Introduction <H2>", 
            "cell_type": "markdown", 
            "metadata": {
                "collapsed": true
            }
        }, 
        {
            "source": "Many business owners have ideas for making new restaurants. I think that it would be more cost effective and easier to start a food trailer. Thus this analysis will be targeted to people who want to open food trucks but with a specfic market in fried chicken. There are several issues food truck owners must understand before opening one. I will attempt to address some of those concerns. If for example Topher wants to open a fried chicken trailer, the question would be what areas would be ideal for such a venue as well as what areas are undeserved and would do well with a new fried chicken place available to them. We can leverage the Foursquare location data and identity areas where such places are popular and identify those clusters and what makes them unique. We can discover from our analysis if there are any similar clusters without any fried chicken venues present and single out the neighborhood that would be best suited for an opening a new restaurant.", 
            "cell_type": "markdown", 
            "metadata": {}
        }, 
        {
            "source": "<h2> Data  </h2>", 
            "cell_type": "markdown", 
            "metadata": {}
        }, 
        {
            "source": "I will be leveraging the Foursquare location data to identity possible locations. Firstly, we will segment out the data into the neighborhoods that exist in New York with K means clustering. We will locate the venues present in each area and break down the most common venues in each neighborhood. We would have enough information to find out what are areas that would do well with a new fried chicken restaurant. \n\n *Foursquare Location data \n  * Used to collect neighborhood venue details \n  * We can identity where food trailers are present and where are locations with fried chicken \n  \n\nThe project data will be scraped together from a few sources. First utilizing Wikipedia we will build a dataset that has neighborhood names and their coordinates. We will then combine this with Foursquare data which has details on venues present in each neighborhood. Finally with those two data sets cleaned and analyzed we can used folium and matplotlib to graphically display areas in which we should consider a fried chicken joint in New York City. \n\n*New York Neighborhoods \n  * Since there are 5 major boroughs in NYC we can breakdown into smaller areas with the NYC data sets we have had access to in our previous lab assignments. \n  * Once we had out location clusters set we can assign how many venues are in each location to understand what area is best served for a new fried chicken truck. \n", 
            "cell_type": "markdown", 
            "metadata": {}
        }, 
        {
            "source": "", 
            "cell_type": "code", 
            "metadata": {}, 
            "outputs": [], 
            "execution_count": null
        }
    ], 
    "metadata": {
        "kernelspec": {
            "display_name": "Python 3.6", 
            "name": "python3", 
            "language": "python"
        }, 
        "language_info": {
            "mimetype": "text/x-python", 
            "nbconvert_exporter": "python", 
            "version": "3.6.8", 
            "name": "python", 
            "pygments_lexer": "ipython3", 
            "file_extension": ".py", 
            "codemirror_mode": {
                "version": 3, 
                "name": "ipython"
            }
        }
    }, 
    "nbformat": 4
}